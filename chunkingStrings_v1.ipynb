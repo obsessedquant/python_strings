{
 "cells": [
  {
   "cell_type": "markdown",
   "id": "7d8b79d9-dff8-46c4-85f6-70542d757a74",
   "metadata": {},
   "source": [
    "# Chunking Strings v1"
   ]
  },
  {
   "cell_type": "code",
   "execution_count": 31,
   "id": "2d1a07a0-a1f5-4633-99d9-f61e62dee3fd",
   "metadata": {},
   "outputs": [
    {
     "name": "stdout",
     "output_type": "stream",
     "text": [
      "1Chronicles\n"
     ]
    }
   ],
   "source": [
    "#Inputs\n",
    "\n",
    "inputFile = r\"C:\\Users\\srobi\\OneDrive\\Documents\\Data\\bible\\1 Chronicles.txt\"\n",
    "\n",
    "title = inputFile.split('\\\\')[-1].split('.')[0].replace(' ', '')\n",
    "print(title)"
   ]
  },
  {
   "cell_type": "code",
   "execution_count": 32,
   "id": "15be7009-f3c5-48d9-a4e6-edb1e052ed69",
   "metadata": {},
   "outputs": [],
   "source": [
    "def create_overlapping_chunks(text, chunk_size, overlap):\n",
    "    \"\"\"\n",
    "    Breaks `text` into overlapping chunks of length `chunk_size`.\n",
    "    Consecutive chunks overlap by `overlap` characters.\n",
    "    \"\"\"\n",
    "    chunks = []\n",
    "    start = 0\n",
    "    \n",
    "    while start < len(text):\n",
    "        end = start + chunk_size\n",
    "        # Get the substring for this chunk\n",
    "        chunk = text[start:end]\n",
    "        chunks.append(chunk)\n",
    "        \n",
    "        # Move the start forward so we have the desired overlap\n",
    "        # (if you want to avoid infinite loops, ensure chunk_size > overlap)\n",
    "        start += (chunk_size - overlap)\n",
    "        \n",
    "        # Optional: break if the chunk wouldn't have any new characters\n",
    "        if start >= len(text):\n",
    "            break\n",
    "    \n",
    "    return chunks"
   ]
  },
  {
   "cell_type": "code",
   "execution_count": 33,
   "id": "088f2ba2-5936-46de-ac89-fb7b7163c3b2",
   "metadata": {},
   "outputs": [
    {
     "name": "stdout",
     "output_type": "stream",
     "text": [
      "235\n"
     ]
    }
   ],
   "source": [
    "# Replace 'example.txt' with your actual text file path\n",
    "with open(inputFile, 'r', encoding='utf-8') as f:\n",
    "    text = f.read()\n",
    "\n",
    "# Customize your desired chunk_size and overlap\n",
    "chunk_size = 1000\n",
    "overlap = 500\n",
    "\n",
    "chunks = create_overlapping_chunks(text, chunk_size, overlap)\n",
    "\n",
    "print(len(chunks))\n",
    "\n",
    "from collections import defaultdict\n",
    "\n",
    "mydict = defaultdict(list)\n",
    "\n",
    "for i,x in enumerate(chunks):\n",
    "    mydict['title'].append(title)\n",
    "    mydict['index'].append(i+1)\n",
    "    mydict['len'].append(len(chunks))\n",
    "    mydict['text'].append(x)\n",
    "    mydict['filePath'].append(inputFile)"
   ]
  },
  {
   "cell_type": "code",
   "execution_count": 34,
   "id": "19c2a640-5001-417a-90e5-4e069022d093",
   "metadata": {},
   "outputs": [
    {
     "data": {
      "application/javascript": [
       "\n",
       "        if (window._pyforest_update_imports_cell) { window._pyforest_update_imports_cell('import pandas as pd'); }\n",
       "    "
      ],
      "text/plain": [
       "<IPython.core.display.Javascript object>"
      ]
     },
     "metadata": {},
     "output_type": "display_data"
    },
    {
     "data": {
      "text/html": [
       "<div>\n",
       "<style scoped>\n",
       "    .dataframe tbody tr th:only-of-type {\n",
       "        vertical-align: middle;\n",
       "    }\n",
       "\n",
       "    .dataframe tbody tr th {\n",
       "        vertical-align: top;\n",
       "    }\n",
       "\n",
       "    .dataframe thead th {\n",
       "        text-align: right;\n",
       "    }\n",
       "</style>\n",
       "<table border=\"1\" class=\"dataframe\">\n",
       "  <thead>\n",
       "    <tr style=\"text-align: right;\">\n",
       "      <th></th>\n",
       "      <th>title</th>\n",
       "      <th>index</th>\n",
       "      <th>len</th>\n",
       "      <th>text</th>\n",
       "      <th>filePath</th>\n",
       "    </tr>\n",
       "  </thead>\n",
       "  <tbody>\n",
       "    <tr>\n",
       "      <th>0</th>\n",
       "      <td>1Chronicles</td>\n",
       "      <td>1</td>\n",
       "      <td>235</td>\n",
       "      <td>FIRST CHRONICLES\\n1:1: Adam, Sheth, Enosh,\\n1:...</td>\n",
       "      <td>C:\\Users\\srobi\\OneDrive\\Documents\\Data\\bible\\1...</td>\n",
       "    </tr>\n",
       "    <tr>\n",
       "      <th>1</th>\n",
       "      <td>1Chronicles</td>\n",
       "      <td>2</td>\n",
       "      <td>235</td>\n",
       "      <td>d Raamah, and Sabtecha.  And the sons of Raama...</td>\n",
       "      <td>C:\\Users\\srobi\\OneDrive\\Documents\\Data\\bible\\1...</td>\n",
       "    </tr>\n",
       "    <tr>\n",
       "      <th>2</th>\n",
       "      <td>1Chronicles</td>\n",
       "      <td>3</td>\n",
       "      <td>235</td>\n",
       "      <td>and the Hamathite.\\n1:17: The sons of Shem; El...</td>\n",
       "      <td>C:\\Users\\srobi\\OneDrive\\Documents\\Data\\bible\\1...</td>\n",
       "    </tr>\n",
       "    <tr>\n",
       "      <th>3</th>\n",
       "      <td>1Chronicles</td>\n",
       "      <td>4</td>\n",
       "      <td>235</td>\n",
       "      <td>: And Ophir, and Havilah, and Jobab.  All thes...</td>\n",
       "      <td>C:\\Users\\srobi\\OneDrive\\Documents\\Data\\bible\\1...</td>\n",
       "    </tr>\n",
       "    <tr>\n",
       "      <th>4</th>\n",
       "      <td>1Chronicles</td>\n",
       "      <td>5</td>\n",
       "      <td>235</td>\n",
       "      <td>concubine: she bare Zimran, and Jokshan, and ...</td>\n",
       "      <td>C:\\Users\\srobi\\OneDrive\\Documents\\Data\\bible\\1...</td>\n",
       "    </tr>\n",
       "    <tr>\n",
       "      <th>...</th>\n",
       "      <td>...</td>\n",
       "      <td>...</td>\n",
       "      <td>...</td>\n",
       "      <td>...</td>\n",
       "      <td>...</td>\n",
       "    </tr>\n",
       "    <tr>\n",
       "      <th>230</th>\n",
       "      <td>1Chronicles</td>\n",
       "      <td>231</td>\n",
       "      <td>235</td>\n",
       "      <td>nd now have I seen with joy thy people, which ...</td>\n",
       "      <td>C:\\Users\\srobi\\OneDrive\\Documents\\Data\\bible\\1...</td>\n",
       "    </tr>\n",
       "    <tr>\n",
       "      <th>231</th>\n",
       "      <td>1Chronicles</td>\n",
       "      <td>232</td>\n",
       "      <td>235</td>\n",
       "      <td>d to all the congregation, Now bless the LORD ...</td>\n",
       "      <td>C:\\Users\\srobi\\OneDrive\\Documents\\Data\\bible\\1...</td>\n",
       "    </tr>\n",
       "    <tr>\n",
       "      <th>232</th>\n",
       "      <td>1Chronicles</td>\n",
       "      <td>233</td>\n",
       "      <td>235</td>\n",
       "      <td>hat day with great gladness.  And they made So...</td>\n",
       "      <td>C:\\Users\\srobi\\OneDrive\\Documents\\Data\\bible\\1...</td>\n",
       "    </tr>\n",
       "    <tr>\n",
       "      <th>233</th>\n",
       "      <td>1Chronicles</td>\n",
       "      <td>234</td>\n",
       "      <td>235</td>\n",
       "      <td>all Israel, and bestowed upon him such royal m...</td>\n",
       "      <td>C:\\Users\\srobi\\OneDrive\\Documents\\Data\\bible\\1...</td>\n",
       "    </tr>\n",
       "    <tr>\n",
       "      <th>234</th>\n",
       "      <td>1Chronicles</td>\n",
       "      <td>235</td>\n",
       "      <td>235</td>\n",
       "      <td>written in the book of Samuel the seer, and in...</td>\n",
       "      <td>C:\\Users\\srobi\\OneDrive\\Documents\\Data\\bible\\1...</td>\n",
       "    </tr>\n",
       "  </tbody>\n",
       "</table>\n",
       "<p>235 rows × 5 columns</p>\n",
       "</div>"
      ],
      "text/plain": [
       "           title  index  len  \\\n",
       "0    1Chronicles      1  235   \n",
       "1    1Chronicles      2  235   \n",
       "2    1Chronicles      3  235   \n",
       "3    1Chronicles      4  235   \n",
       "4    1Chronicles      5  235   \n",
       "..           ...    ...  ...   \n",
       "230  1Chronicles    231  235   \n",
       "231  1Chronicles    232  235   \n",
       "232  1Chronicles    233  235   \n",
       "233  1Chronicles    234  235   \n",
       "234  1Chronicles    235  235   \n",
       "\n",
       "                                                  text  \\\n",
       "0    FIRST CHRONICLES\\n1:1: Adam, Sheth, Enosh,\\n1:...   \n",
       "1    d Raamah, and Sabtecha.  And the sons of Raama...   \n",
       "2    and the Hamathite.\\n1:17: The sons of Shem; El...   \n",
       "3    : And Ophir, and Havilah, and Jobab.  All thes...   \n",
       "4     concubine: she bare Zimran, and Jokshan, and ...   \n",
       "..                                                 ...   \n",
       "230  nd now have I seen with joy thy people, which ...   \n",
       "231  d to all the congregation, Now bless the LORD ...   \n",
       "232  hat day with great gladness.  And they made So...   \n",
       "233  all Israel, and bestowed upon him such royal m...   \n",
       "234  written in the book of Samuel the seer, and in...   \n",
       "\n",
       "                                              filePath  \n",
       "0    C:\\Users\\srobi\\OneDrive\\Documents\\Data\\bible\\1...  \n",
       "1    C:\\Users\\srobi\\OneDrive\\Documents\\Data\\bible\\1...  \n",
       "2    C:\\Users\\srobi\\OneDrive\\Documents\\Data\\bible\\1...  \n",
       "3    C:\\Users\\srobi\\OneDrive\\Documents\\Data\\bible\\1...  \n",
       "4    C:\\Users\\srobi\\OneDrive\\Documents\\Data\\bible\\1...  \n",
       "..                                                 ...  \n",
       "230  C:\\Users\\srobi\\OneDrive\\Documents\\Data\\bible\\1...  \n",
       "231  C:\\Users\\srobi\\OneDrive\\Documents\\Data\\bible\\1...  \n",
       "232  C:\\Users\\srobi\\OneDrive\\Documents\\Data\\bible\\1...  \n",
       "233  C:\\Users\\srobi\\OneDrive\\Documents\\Data\\bible\\1...  \n",
       "234  C:\\Users\\srobi\\OneDrive\\Documents\\Data\\bible\\1...  \n",
       "\n",
       "[235 rows x 5 columns]"
      ]
     },
     "metadata": {},
     "output_type": "display_data"
    }
   ],
   "source": [
    "df = pd.DataFrame(mydict)\n",
    "display(df)"
   ]
  },
  {
   "cell_type": "code",
   "execution_count": null,
   "id": "be4e9b22-03ad-4362-8af9-361445e79a3d",
   "metadata": {},
   "outputs": [],
   "source": []
  },
  {
   "cell_type": "code",
   "execution_count": null,
   "id": "c58259fc-c303-4c6a-9944-2089ac492f65",
   "metadata": {},
   "outputs": [],
   "source": []
  },
  {
   "cell_type": "code",
   "execution_count": null,
   "id": "7c739029-5dd0-4c16-abde-4822901ac069",
   "metadata": {},
   "outputs": [],
   "source": []
  }
 ],
 "metadata": {
  "kernelspec": {
   "display_name": "Python (3_12)",
   "language": "python",
   "name": "py3_12"
  },
  "language_info": {
   "codemirror_mode": {
    "name": "ipython",
    "version": 3
   },
   "file_extension": ".py",
   "mimetype": "text/x-python",
   "name": "python",
   "nbconvert_exporter": "python",
   "pygments_lexer": "ipython3",
   "version": "3.12.4"
  }
 },
 "nbformat": 4,
 "nbformat_minor": 5
}
