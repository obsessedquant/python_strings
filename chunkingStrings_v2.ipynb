{
 "cells": [
  {
   "cell_type": "markdown",
   "id": "7d8b79d9-dff8-46c4-85f6-70542d757a74",
   "metadata": {},
   "source": [
    "# Chunking Strings v2\n",
    "\n",
    "v2 is the same as v1 except that it takes in a directory of inputFiles and compiles them into a single csv output file."
   ]
  },
  {
   "cell_type": "code",
   "execution_count": 97,
   "id": "6c79baac-267c-4ddb-bebf-32eb5e2120d6",
   "metadata": {},
   "outputs": [
    {
     "name": "stdout",
     "output_type": "stream",
     "text": [
      "helloWorldHowAreYou\n"
     ]
    }
   ],
   "source": [
    "import re\n",
    "\n",
    "def to_camel_case(input_string):\n",
    "    # Remove all special characters and spaces using regex\n",
    "    cleaned_string = re.sub(r'[^a-zA-Z0-9\\s]', '', input_string)\n",
    "    \n",
    "    # Split the cleaned string into words\n",
    "    words = cleaned_string.split()\n",
    "    \n",
    "    # Convert to camel case\n",
    "    if not words:\n",
    "        return \"\"\n",
    "    \n",
    "    camel_case_string = words[0].lower()  # Keep the first word in lowercase\n",
    "    camel_case_string += ''.join(word.capitalize() for word in words[1:])  # Capitalize subsequent words\n",
    "    \n",
    "    return camel_case_string\n",
    "\n",
    "# Example usage\n",
    "input_string = \"Hello, World! How are you?\"\n",
    "output_string = to_camel_case(input_string)\n",
    "print(output_string)  # Output: helloWorldHowAreYou"
   ]
  },
  {
   "cell_type": "code",
   "execution_count": 98,
   "id": "2d1a07a0-a1f5-4633-99d9-f61e62dee3fd",
   "metadata": {},
   "outputs": [
    {
     "name": "stdout",
     "output_type": "stream",
     "text": [
      "theCatechismOfTheCatholicChurch\n",
      "\n",
      "C:\\Users\\srobi\\OneDrive\\Documents\\Data\\textFiles/theCatechismOfTheCatholicChurch.csv\n"
     ]
    }
   ],
   "source": [
    "#Inputs\n",
    "\n",
    "readPath = r\"C:\\Users\\srobi\\OneDrive\\Documents\\Data\\eBooks\\summaTheologica\"\n",
    "readPathSingle = r\"C:\\Users\\srobi\\OneDrive\\Documents\\BibleStudy\\eBooks\\theCatechismOfTheCatholicChurch.txt\" #None\n",
    "\n",
    "savePath0 = r\"C:\\Users\\srobi\\OneDrive\\Documents\\Data\\textFiles\"\n",
    "\n",
    "if readPathSingle:\n",
    "    readPath = readPathSingle\n",
    "\n",
    "title = readPath.split('\\\\')[-1].split('.')[0]\n",
    "    \n",
    "if len(title.split(' '))>1:\n",
    "    title = to_camel_case(title)\n",
    "\n",
    "print(f'{title}\\n')\n",
    "\n",
    "csvFileName = title\n",
    "savePath = f'{savePath0}/{csvFileName}.csv'\n",
    "print(savePath)"
   ]
  },
  {
   "cell_type": "code",
   "execution_count": 99,
   "id": "089e175a-8eff-48c3-8d8e-0cc7df9e05ff",
   "metadata": {},
   "outputs": [],
   "source": [
    "if not readPathSingle:\n",
    "    \n",
    "    #Get latest file\n",
    "    import glob, os\n",
    "    \n",
    "    # Get the latest file from the directory\n",
    "    list_of_files = glob.glob(f'{readPath}/*.txt') # * means all if need specific format then *.csv\n",
    "    latest_file = max(list_of_files, key=os.path.getctime)\n",
    "    print(latest_file)\n",
    "\n",
    "else:\n",
    "    list_of_files = [readPathSingle]"
   ]
  },
  {
   "cell_type": "code",
   "execution_count": 100,
   "id": "6df8ee95-97c7-4a6e-8061-7ec3315c86e1",
   "metadata": {},
   "outputs": [
    {
     "data": {
      "text/plain": [
       "['C:\\\\Users\\\\srobi\\\\OneDrive\\\\Documents\\\\BibleStudy\\\\eBooks\\\\theCatechismOfTheCatholicChurch.txt']"
      ]
     },
     "execution_count": 100,
     "metadata": {},
     "output_type": "execute_result"
    }
   ],
   "source": [
    "list_of_files[:3]"
   ]
  },
  {
   "cell_type": "code",
   "execution_count": 101,
   "id": "15be7009-f3c5-48d9-a4e6-edb1e052ed69",
   "metadata": {},
   "outputs": [],
   "source": [
    "def create_overlapping_chunks(text, chunk_size, overlap):\n",
    "    \"\"\"\n",
    "    Breaks `text` into overlapping chunks of length `chunk_size`.\n",
    "    Consecutive chunks overlap by `overlap` characters.\n",
    "    \"\"\"\n",
    "    chunks = []\n",
    "    start = 0\n",
    "    \n",
    "    while start < len(text):\n",
    "        end = start + chunk_size\n",
    "        # Get the substring for this chunk\n",
    "        chunk = text[start:end]\n",
    "        chunks.append(chunk)\n",
    "        \n",
    "        # Move the start forward so we have the desired overlap\n",
    "        # (if you want to avoid infinite loops, ensure chunk_size > overlap)\n",
    "        start += (chunk_size - overlap)\n",
    "        \n",
    "        # Optional: break if the chunk wouldn't have any new characters\n",
    "        if start >= len(text):\n",
    "            break\n",
    "    \n",
    "    return chunks"
   ]
  },
  {
   "cell_type": "code",
   "execution_count": 102,
   "id": "088f2ba2-5936-46de-ac89-fb7b7163c3b2",
   "metadata": {},
   "outputs": [
    {
     "name": "stdout",
     "output_type": "stream",
     "text": [
      "theCatechismOfTheCatholicChurch\n",
      "{'encoding': 'utf-8', 'confidence': 0.99, 'language': ''}\n",
      "3019\n"
     ]
    }
   ],
   "source": [
    "from collections import defaultdict\n",
    "\n",
    "mydict = defaultdict(list)\n",
    "\n",
    "for file in list_of_files:\n",
    "\n",
    "    title = file.split('\\\\')[-1].split('.')[0].replace(' ', '')\n",
    "    print(title)\n",
    "\n",
    "    import chardet\n",
    "\n",
    "    # Replace 'example.txt' with your actual text file path\n",
    "    # file = 'example.txt'\n",
    "    \n",
    "    # Detect file encoding\n",
    "    with open(file, 'rb') as f:\n",
    "        result = chardet.detect(f.read())\n",
    "        print(result)\n",
    "    \n",
    "    # Replace 'example.txt' with your actual text file path\n",
    "    with open(file, 'r', encoding=result['encoding']) as f:\n",
    "        text = f.read()\n",
    "    \n",
    "    # Customize your desired chunk_size and overlap\n",
    "    chunk_size = 1000\n",
    "    overlap = chunk_size//2\n",
    "    \n",
    "    chunks = create_overlapping_chunks(text, chunk_size, overlap)\n",
    "    \n",
    "    print(len(chunks))\n",
    "    \n",
    "    for i,x in enumerate(chunks):\n",
    "        mydict['title'].append(title)\n",
    "        mydict['index'].append(i+1)\n",
    "        mydict['len'].append(len(chunks))\n",
    "        mydict['text'].append(x)\n",
    "        mydict['filePath'].append(file)"
   ]
  },
  {
   "cell_type": "code",
   "execution_count": 103,
   "id": "19c2a640-5001-417a-90e5-4e069022d093",
   "metadata": {},
   "outputs": [
    {
     "data": {
      "application/javascript": [
       "\n",
       "        if (window._pyforest_update_imports_cell) { window._pyforest_update_imports_cell('import pandas as pd'); }\n",
       "    "
      ],
      "text/plain": [
       "<IPython.core.display.Javascript object>"
      ]
     },
     "metadata": {},
     "output_type": "display_data"
    },
    {
     "data": {
      "text/html": [
       "<div>\n",
       "<style scoped>\n",
       "    .dataframe tbody tr th:only-of-type {\n",
       "        vertical-align: middle;\n",
       "    }\n",
       "\n",
       "    .dataframe tbody tr th {\n",
       "        vertical-align: top;\n",
       "    }\n",
       "\n",
       "    .dataframe thead th {\n",
       "        text-align: right;\n",
       "    }\n",
       "</style>\n",
       "<table border=\"1\" class=\"dataframe\">\n",
       "  <thead>\n",
       "    <tr style=\"text-align: right;\">\n",
       "      <th></th>\n",
       "      <th>title</th>\n",
       "      <th>index</th>\n",
       "      <th>len</th>\n",
       "      <th>text</th>\n",
       "      <th>filePath</th>\n",
       "    </tr>\n",
       "  </thead>\n",
       "  <tbody>\n",
       "    <tr>\n",
       "      <th>0</th>\n",
       "      <td>theCatechismOfTheCatholicChurch</td>\n",
       "      <td>1</td>\n",
       "      <td>3019</td>\n",
       "      <td>--- Page 1 ---\\nCATECHISM OF THE CATHOLIC CHUR...</td>\n",
       "      <td>C:\\Users\\srobi\\OneDrive\\Documents\\BibleStudy\\e...</td>\n",
       "    </tr>\n",
       "    <tr>\n",
       "      <th>1</th>\n",
       "      <td>theCatechismOfTheCatholicChurch</td>\n",
       "      <td>2</td>\n",
       "      <td>3019</td>\n",
       "      <td>n. 27-49\\nI. The Desire for God nn. 27-30\\n\\nI...</td>\n",
       "      <td>C:\\Users\\srobi\\OneDrive\\Documents\\BibleStudy\\e...</td>\n",
       "    </tr>\n",
       "    <tr>\n",
       "      <th>2</th>\n",
       "      <td>theCatechismOfTheCatholicChurch</td>\n",
       "      <td>3</td>\n",
       "      <td>3019</td>\n",
       "      <td>ANSMISSION OF DIVINE REVELATION n. 74\\nI. The ...</td>\n",
       "      <td>C:\\Users\\srobi\\OneDrive\\Documents\\BibleStudy\\e...</td>\n",
       "    </tr>\n",
       "    <tr>\n",
       "      <th>3</th>\n",
       "      <td>theCatechismOfTheCatholicChurch</td>\n",
       "      <td>4</td>\n",
       "      <td>3019</td>\n",
       "      <td>ife of the Church nn. 131-133\\n\\nIN BRIEF nn. ...</td>\n",
       "      <td>C:\\Users\\srobi\\OneDrive\\Documents\\BibleStudy\\e...</td>\n",
       "    </tr>\n",
       "    <tr>\n",
       "      <th>4</th>\n",
       "      <td>theCatechismOfTheCatholicChurch</td>\n",
       "      <td>5</td>\n",
       "      <td>3019</td>\n",
       "      <td>97\\n\\nCHAPTER ONE I BELIEVE IN GOD THE FATHER ...</td>\n",
       "      <td>C:\\Users\\srobi\\OneDrive\\Documents\\BibleStudy\\e...</td>\n",
       "    </tr>\n",
       "    <tr>\n",
       "      <th>...</th>\n",
       "      <td>...</td>\n",
       "      <td>...</td>\n",
       "      <td>...</td>\n",
       "      <td>...</td>\n",
       "      <td>...</td>\n",
       "    </tr>\n",
       "    <tr>\n",
       "      <th>3014</th>\n",
       "      <td>theCatechismOfTheCatholicChurch</td>\n",
       "      <td>3015</td>\n",
       "      <td>3019</td>\n",
       "      <td>e petitions is the\\nglory of the Father: the s...</td>\n",
       "      <td>C:\\Users\\srobi\\OneDrive\\Documents\\BibleStudy\\e...</td>\n",
       "    </tr>\n",
       "    <tr>\n",
       "      <th>3015</th>\n",
       "      <td>theCatechismOfTheCatholicChurch</td>\n",
       "      <td>3016</td>\n",
       "      <td>3019</td>\n",
       "      <td>on, the Church looks first to Christ's return\\...</td>\n",
       "      <td>C:\\Users\\srobi\\OneDrive\\Documents\\BibleStudy\\e...</td>\n",
       "    </tr>\n",
       "    <tr>\n",
       "      <th>3016</th>\n",
       "      <td>theCatechismOfTheCatholicChurch</td>\n",
       "      <td>3017</td>\n",
       "      <td>3019</td>\n",
       "      <td>ishment necessary to\\neveryone for subsistence...</td>\n",
       "      <td>C:\\Users\\srobi\\OneDrive\\Documents\\BibleStudy\\e...</td>\n",
       "    </tr>\n",
       "    <tr>\n",
       "      <th>3017</th>\n",
       "      <td>theCatechismOfTheCatholicChurch</td>\n",
       "      <td>3018</td>\n",
       "      <td>3019</td>\n",
       "      <td>t into temptation\" we are asking God\\nnot to a...</td>\n",
       "      <td>C:\\Users\\srobi\\OneDrive\\Documents\\BibleStudy\\e...</td>\n",
       "    </tr>\n",
       "    <tr>\n",
       "      <th>3018</th>\n",
       "      <td>theCatechismOfTheCatholicChurch</td>\n",
       "      <td>3019</td>\n",
       "      <td>3019</td>\n",
       "      <td>our \"fiat\" concerning the seven\\npetitions: \"S...</td>\n",
       "      <td>C:\\Users\\srobi\\OneDrive\\Documents\\BibleStudy\\e...</td>\n",
       "    </tr>\n",
       "  </tbody>\n",
       "</table>\n",
       "<p>3019 rows × 5 columns</p>\n",
       "</div>"
      ],
      "text/plain": [
       "                                title  index   len  \\\n",
       "0     theCatechismOfTheCatholicChurch      1  3019   \n",
       "1     theCatechismOfTheCatholicChurch      2  3019   \n",
       "2     theCatechismOfTheCatholicChurch      3  3019   \n",
       "3     theCatechismOfTheCatholicChurch      4  3019   \n",
       "4     theCatechismOfTheCatholicChurch      5  3019   \n",
       "...                               ...    ...   ...   \n",
       "3014  theCatechismOfTheCatholicChurch   3015  3019   \n",
       "3015  theCatechismOfTheCatholicChurch   3016  3019   \n",
       "3016  theCatechismOfTheCatholicChurch   3017  3019   \n",
       "3017  theCatechismOfTheCatholicChurch   3018  3019   \n",
       "3018  theCatechismOfTheCatholicChurch   3019  3019   \n",
       "\n",
       "                                                   text  \\\n",
       "0     --- Page 1 ---\\nCATECHISM OF THE CATHOLIC CHUR...   \n",
       "1     n. 27-49\\nI. The Desire for God nn. 27-30\\n\\nI...   \n",
       "2     ANSMISSION OF DIVINE REVELATION n. 74\\nI. The ...   \n",
       "3     ife of the Church nn. 131-133\\n\\nIN BRIEF nn. ...   \n",
       "4     97\\n\\nCHAPTER ONE I BELIEVE IN GOD THE FATHER ...   \n",
       "...                                                 ...   \n",
       "3014  e petitions is the\\nglory of the Father: the s...   \n",
       "3015  on, the Church looks first to Christ's return\\...   \n",
       "3016  ishment necessary to\\neveryone for subsistence...   \n",
       "3017  t into temptation\" we are asking God\\nnot to a...   \n",
       "3018  our \"fiat\" concerning the seven\\npetitions: \"S...   \n",
       "\n",
       "                                               filePath  \n",
       "0     C:\\Users\\srobi\\OneDrive\\Documents\\BibleStudy\\e...  \n",
       "1     C:\\Users\\srobi\\OneDrive\\Documents\\BibleStudy\\e...  \n",
       "2     C:\\Users\\srobi\\OneDrive\\Documents\\BibleStudy\\e...  \n",
       "3     C:\\Users\\srobi\\OneDrive\\Documents\\BibleStudy\\e...  \n",
       "4     C:\\Users\\srobi\\OneDrive\\Documents\\BibleStudy\\e...  \n",
       "...                                                 ...  \n",
       "3014  C:\\Users\\srobi\\OneDrive\\Documents\\BibleStudy\\e...  \n",
       "3015  C:\\Users\\srobi\\OneDrive\\Documents\\BibleStudy\\e...  \n",
       "3016  C:\\Users\\srobi\\OneDrive\\Documents\\BibleStudy\\e...  \n",
       "3017  C:\\Users\\srobi\\OneDrive\\Documents\\BibleStudy\\e...  \n",
       "3018  C:\\Users\\srobi\\OneDrive\\Documents\\BibleStudy\\e...  \n",
       "\n",
       "[3019 rows x 5 columns]"
      ]
     },
     "metadata": {},
     "output_type": "display_data"
    }
   ],
   "source": [
    "df = pd.DataFrame(mydict)\n",
    "df.to_csv(savePath, index=False)\n",
    "display(df)"
   ]
  },
  {
   "cell_type": "code",
   "execution_count": 104,
   "id": "be4e9b22-03ad-4362-8af9-361445e79a3d",
   "metadata": {},
   "outputs": [
    {
     "name": "stdout",
     "output_type": "stream",
     "text": [
      "--- Page 1 ---\n",
      "CATECHISM OF THE CATHOLIC CHURCH\n",
      "\n",
      "Table of Contents\n",
      "\n",
      "PROLOGUE\n",
      "\n",
      "I. The life of man - to know and love God _ nn. 1-3\n",
      "\n",
      "II. Handing on the Faith: Catechesis nn. 4-10\n",
      "\n",
      "III. The Aim and Intended Readership of the Catechism\n",
      "nn. 11-12\n",
      "\n",
      "IV. Structure of this Catechism nn. 13-17\n",
      "\n",
      "V. Practical Directions for Using this Catechism nn. 18-22\n",
      "\n",
      "VI. Necessary Adaptations nn. 23-25\n",
      "\n",
      "PART ONE: THE PROFESSION OF FAITH\n",
      "\n",
      "SECTION ONE \"I BELIEVE\" - \"WE BELIEVE\" n. 26\n",
      "\n",
      "CHAPTER ONE MAN'S CAPACITY FOR GOD nn. 27-49\n",
      "I. The Desire for God nn. 27-30\n",
      "\n",
      "II. Ways of Coming to Know God non. 31-35\n",
      "\n",
      "II. The Knowledge of God According to the Church nn. 36-38\n",
      "IV. How Can We Speak about God? nn.39-43\n",
      "\n",
      "IN BRIEF nn. 44-49\n",
      "\n",
      "--- Page 2 ---\n",
      "CHAPTER TWO GOD COMES TO MEET MAN 1. 50\n",
      "Article 1 THE REVELATION OF GOD\n",
      "\n",
      "I. God Reveals His \"Plan of Loving Goodness\" nn. 51-53\n",
      "II. The Stages of Revelation nn. 54-64\n",
      "\n",
      "III. Christ Jesus -- \"Mediator and Fullness of All Revelation\" nn. 65-\n",
      "67\n",
      "\n",
      "IN BRIEF nn. 68-73\n",
      "\n",
      "Article 2 THE TR\n"
     ]
    }
   ],
   "source": [
    "print(df['text'].iloc[0])"
   ]
  },
  {
   "cell_type": "code",
   "execution_count": null,
   "id": "c58259fc-c303-4c6a-9944-2089ac492f65",
   "metadata": {},
   "outputs": [],
   "source": []
  },
  {
   "cell_type": "code",
   "execution_count": null,
   "id": "7c739029-5dd0-4c16-abde-4822901ac069",
   "metadata": {},
   "outputs": [],
   "source": []
  }
 ],
 "metadata": {
  "kernelspec": {
   "display_name": "Python (3_12)",
   "language": "python",
   "name": "py3_12"
  },
  "language_info": {
   "codemirror_mode": {
    "name": "ipython",
    "version": 3
   },
   "file_extension": ".py",
   "mimetype": "text/x-python",
   "name": "python",
   "nbconvert_exporter": "python",
   "pygments_lexer": "ipython3",
   "version": "3.12.4"
  }
 },
 "nbformat": 4,
 "nbformat_minor": 5
}
