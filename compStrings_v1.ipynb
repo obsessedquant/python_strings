{
 "cells": [
  {
   "cell_type": "markdown",
   "id": "064908ec-d688-4ae5-b987-7faf98ab1f25",
   "metadata": {},
   "source": [
    "# Compare two strings to each other v1\n",
    "\n",
    "This notebook provides all of the different ways to evaluate if two strings are similar to each other."
   ]
  },
  {
   "cell_type": "code",
   "execution_count": 3,
   "id": "bf898231-19be-4ed2-9d80-49333a86ced7",
   "metadata": {},
   "outputs": [
    {
     "name": "stdout",
     "output_type": "stream",
     "text": [
      "Overall Similarity Score: 0.46780219780219784\n"
     ]
    }
   ],
   "source": [
    "from difflib import SequenceMatcher\n",
    "from fuzzywuzzy import fuzz\n",
    "from sklearn.feature_extraction.text import TfidfVectorizer\n",
    "from sklearn.metrics.pairwise import cosine_similarity\n",
    "import Levenshtein\n",
    "\n",
    "def jaccard_similarity(str1, str2):\n",
    "    set1 = set(str1)\n",
    "    set2 = set(str2)\n",
    "    intersection = len(set1.intersection(set2))\n",
    "    union = len(set1.union(set2))\n",
    "    return intersection / union\n",
    "\n",
    "def cosine_sim(str1, str2):\n",
    "    vectorizer = TfidfVectorizer().fit_transform([str1, str2])\n",
    "    vectors = vectorizer.toarray()\n",
    "    return cosine_similarity(vectors)[0][1]\n",
    "\n",
    "def hamming_distance(str1, str2):\n",
    "    if len(str1) != len(str2):\n",
    "        raise ValueError(\"Strings must be of the same length\")\n",
    "    return sum(el1 != el2 for el1, el2 in zip(str1, str2))\n",
    "\n",
    "def similarity_score(str1, str2):\n",
    "    # Levenshtein Distance normalized\n",
    "    lev_distance = Levenshtein.distance(str1, str2)\n",
    "    lev_score = 1 - (lev_distance / max(len(str1), len(str2)))\n",
    "\n",
    "    # Jaccard Similarity\n",
    "    jaccard_score = jaccard_similarity(str1, str2)\n",
    "\n",
    "    # Cosine Similarity\n",
    "    cosine_score = cosine_sim(str1, str2)\n",
    "\n",
    "    # SequenceMatcher Similarity\n",
    "    seq_matcher_score = SequenceMatcher(None, str1, str2).ratio()\n",
    "\n",
    "    # Hamming Distance normalized (ensure strings are of same length)\n",
    "    max_len = max(len(str1), len(str2))\n",
    "    str1_padded = str1.ljust(max_len)\n",
    "    str2_padded = str2.ljust(max_len)\n",
    "    hamming_dist = hamming_distance(str1_padded, str2_padded)\n",
    "    hamming_score = 1 - (hamming_dist / max_len)\n",
    "\n",
    "    # FuzzyWuzzy Similarity\n",
    "    fuzzy_score = fuzz.ratio(str1, str2) / 100\n",
    "\n",
    "    # Combine all scores (average)\n",
    "    combined_score = (lev_score + jaccard_score + cosine_score +\n",
    "                      seq_matcher_score + hamming_score + fuzzy_score) / 6\n",
    "\n",
    "    return combined_score\n",
    "\n",
    "# Example usage\n",
    "string1 = \"kitten\"\n",
    "string2 = \"sitting\"\n",
    "\n",
    "score = similarity_score(string1, string2)\n",
    "print(f\"Overall Similarity Score: {score}\")"
   ]
  },
  {
   "cell_type": "code",
   "execution_count": 4,
   "id": "9d31c6e3-98e2-4cc3-a1ad-1b8653c6b7a3",
   "metadata": {},
   "outputs": [
    {
     "name": "stdout",
     "output_type": "stream",
     "text": [
      "Overall Similarity Score: 0.5548148148148149\n"
     ]
    }
   ],
   "source": [
    "# Example usage\n",
    "string1 = \"here\"\n",
    "string2 = \"there\"\n",
    "\n",
    "score = similarity_score(string1, string2)\n",
    "print(f\"Overall Similarity Score: {score}\")"
   ]
  },
  {
   "cell_type": "code",
   "execution_count": 5,
   "id": "10d96efe-a976-4f59-9f84-c1c8050a8715",
   "metadata": {},
   "outputs": [
    {
     "name": "stdout",
     "output_type": "stream",
     "text": [
      "Overall Similarity Score: 1.0\n"
     ]
    }
   ],
   "source": [
    "# Example usage\n",
    "string1 = \"abc123\"\n",
    "string2 = \"abc123\"\n",
    "\n",
    "score = similarity_score(string1, string2)\n",
    "print(f\"Overall Similarity Score: {score}\")"
   ]
  },
  {
   "cell_type": "code",
   "execution_count": 6,
   "id": "0eeb2390-81fb-4fc7-925a-dee5271c7670",
   "metadata": {},
   "outputs": [
    {
     "name": "stdout",
     "output_type": "stream",
     "text": [
      "Overall Similarity Score: 0.3333333333333333\n"
     ]
    }
   ],
   "source": [
    "# Example usage\n",
    "string1 = \"abc123\"\n",
    "string2 = \"123abc\"\n",
    "\n",
    "score = similarity_score(string1, string2)\n",
    "print(f\"Overall Similarity Score: {score}\")"
   ]
  },
  {
   "cell_type": "code",
   "execution_count": 7,
   "id": "84956227-c203-4bbe-9a26-a5ec9bc6a024",
   "metadata": {},
   "outputs": [
    {
     "name": "stdout",
     "output_type": "stream",
     "text": [
      "Overall Similarity Score: 0.555\n"
     ]
    }
   ],
   "source": [
    "# Example usage\n",
    "string1 = \"abc123\"\n",
    "string2 = \"3abc12\"\n",
    "\n",
    "score = similarity_score(string1, string2)\n",
    "print(f\"Overall Similarity Score: {score}\")"
   ]
  },
  {
   "cell_type": "code",
   "execution_count": 8,
   "id": "ed817926-f7f7-418d-a02c-1b995ab32db2",
   "metadata": {},
   "outputs": [
    {
     "name": "stdout",
     "output_type": "stream",
     "text": [
      "Overall Similarity Score: 0.6643223443223444\n"
     ]
    }
   ],
   "source": [
    "# Example usage\n",
    "string1 = \"abc123\"\n",
    "string2 = \"abc-123\"\n",
    "\n",
    "score = similarity_score(string1, string2)\n",
    "print(f\"Overall Similarity Score: {score}\")"
   ]
  },
  {
   "cell_type": "code",
   "execution_count": 12,
   "id": "2b3deae5-7748-4409-8eeb-5fdc7662cb41",
   "metadata": {},
   "outputs": [
    {
     "name": "stdout",
     "output_type": "stream",
     "text": [
      "Overall Similarity Score: 0.7243386243386243\n"
     ]
    }
   ],
   "source": [
    "# Example usage\n",
    "string1 = \"abc123\"\n",
    "string2 = \" abc123  \"\n",
    "\n",
    "score = similarity_score(string1, string2)\n",
    "print(f\"Overall Similarity Score: {score}\")"
   ]
  }
 ],
 "metadata": {
  "kernelspec": {
   "display_name": "Python (3_12)",
   "language": "python",
   "name": "py3_12"
  },
  "language_info": {
   "codemirror_mode": {
    "name": "ipython",
    "version": 3
   },
   "file_extension": ".py",
   "mimetype": "text/x-python",
   "name": "python",
   "nbconvert_exporter": "python",
   "pygments_lexer": "ipython3",
   "version": "3.12.4"
  }
 },
 "nbformat": 4,
 "nbformat_minor": 5
}
