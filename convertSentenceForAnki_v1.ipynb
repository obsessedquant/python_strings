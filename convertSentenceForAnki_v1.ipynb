{
 "cells": [
  {
   "cell_type": "markdown",
   "id": "b0bee773-902e-4df3-abd1-f6086b0487c1",
   "metadata": {},
   "source": [
    "# Convert for Anki v1"
   ]
  },
  {
   "cell_type": "code",
   "execution_count": 26,
   "id": "6d62300c-0c15-4584-acdf-9cec7071b1fd",
   "metadata": {},
   "outputs": [
    {
     "name": "stdout",
     "output_type": "stream",
     "text": [
      "sanctam Ecclesiam catholicam,\n",
      "Transformed string written to output_sentence.txt\n"
     ]
    },
    {
     "data": {
      "text/plain": [
       "CompletedProcess(args=['notepad', 'output_sentence.txt'], returncode=0)"
      ]
     },
     "execution_count": 26,
     "metadata": {},
     "output_type": "execute_result"
    }
   ],
   "source": [
    "import string\n",
    "import subprocess\n",
    "\n",
    "latinOrEnglish = 'latin' #latin or english\n",
    "\n",
    "# Open the file in read mode\n",
    "with open(\"input_sentence.txt\", \"r\") as file:\n",
    "    # Read the file's contents into a string\n",
    "    input_sentence = file.read()\n",
    "\n",
    "# Print the content or use it as needed\n",
    "print(input_sentence)\n",
    "\n",
    "# input_sentence = 'qui conceptus est de Spiritu Sancto,'\n",
    "\n",
    "def transform_sentence(sentence):\n",
    "    # Remove punctuation\n",
    "    no_punctuation = sentence.translate(str.maketrans('', '', string.punctuation))\n",
    "    \n",
    "    # Split the sentence into words\n",
    "    words = no_punctuation.split()\n",
    "    \n",
    "    # Build the new string with first letters followed by \"__ \"\n",
    "    transformed_string = ''.join(word[0].lower() + '__ ' for word in words if word)\n",
    "    \n",
    "    return transformed_string\n",
    "\n",
    "# Input sentence\n",
    "# input_sentence = input(\"Enter a sentence: \")\n",
    "\n",
    "# Transform the sentence\n",
    "result = transform_sentence(input_sentence)\n",
    "if latinOrEnglish=='english':\n",
    "    result = f'In English\\n\\n{result}'\n",
    "elif latinOrEnglish=='latin':\n",
    "    result = f'In Latin\\n\\n{result}'\n",
    "\n",
    "# File path\n",
    "file_path = \"output_sentence.txt\"\n",
    "\n",
    "# Write the result to a .txt file\n",
    "with open(file_path, \"w\") as file:\n",
    "    file.write(result)\n",
    "\n",
    "print(f\"Transformed string written to {file_path}\")\n",
    "\n",
    "# Open the file with Notepad using subprocess\n",
    "# try:\n",
    "# subprocess.run([\"notepad\", file_path], check=True)\n",
    "subprocess.run([\"notepad\", file_path])\n",
    "# except FileNotFoundError:\n",
    "#     print(\"Notepad is not available on this system.\")\n",
    "# except subprocess.CalledProcessError as e:\n",
    "#     print(f\"Error while opening the file: {e}\")"
   ]
  }
 ],
 "metadata": {
  "kernelspec": {
   "display_name": "Python (3_12)",
   "language": "python",
   "name": "py3_12"
  },
  "language_info": {
   "codemirror_mode": {
    "name": "ipython",
    "version": 3
   },
   "file_extension": ".py",
   "mimetype": "text/x-python",
   "name": "python",
   "nbconvert_exporter": "python",
   "pygments_lexer": "ipython3",
   "version": "3.12.4"
  }
 },
 "nbformat": 4,
 "nbformat_minor": 5
}
