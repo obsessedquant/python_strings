{
 "cells": [
  {
   "cell_type": "markdown",
   "id": "0bfd9743-9333-49ea-beb4-83dff59032b4",
   "metadata": {},
   "source": [
    "# Find Greek Characters v1"
   ]
  },
  {
   "cell_type": "code",
   "execution_count": 1,
   "id": "b2992278-d177-4cd0-8b88-3013aa0fdc21",
   "metadata": {},
   "outputs": [],
   "source": [
    "mystring = \"quoted below, while the LXX. varies, as follows:  Isa. xlii. 1. παῖς.   19. παἴδες, δοῦλοι.  xliv. 2. παῖς.  21. παῖς.  xlviii. 29. δοῦλον.  xlix. 3. δοῦλος.  5. δοῦλον.  6. παῖδα.  7. δοῦλον.  lii. 13. παῖς.  liii. 11. δοῦλεύοντα.\""
   ]
  },
  {
   "cell_type": "code",
   "execution_count": 3,
   "id": "3ea52da8-7086-4d8a-ad8e-428a19672edf",
   "metadata": {},
   "outputs": [
    {
     "name": "stdout",
     "output_type": "stream",
     "text": [
      "55\n"
     ]
    }
   ],
   "source": [
    "def find_greek_characters(input_string):\n",
    "    greek_chars = []\n",
    "    for index, char in enumerate(input_string):\n",
    "        if '\\u0370' <= char <= '\\u03FF':  # Check if the character is Greek\n",
    "            greek_chars.append((char, index))  # Append the character and its position\n",
    "    return greek_chars\n",
    "\n",
    "greek_characters = find_greek_characters(mystring)\n",
    "print(len(greek_characters))"
   ]
  },
  {
   "cell_type": "code",
   "execution_count": 5,
   "id": "eb4ce562-344f-49d1-bbab-9a1fb77a4b93",
   "metadata": {},
   "outputs": [
    {
     "name": "stdout",
     "output_type": "stream",
     "text": [
      "67\n"
     ]
    }
   ],
   "source": [
    "def find_non_english_characters(input_string):\n",
    "    non_english_chars = []\n",
    "    for index, char in enumerate(input_string):\n",
    "        if ord(char) > 127:  # Non-ASCII characters have ord value greater than 127\n",
    "            non_english_chars.append((char, index))  # Append character and its position\n",
    "    return non_english_chars\n",
    "\n",
    "# Example string\n",
    "# text = \"quoted below, while the LXX. varies, as follows:  Isa. xlii. 1. παῖς.   19. παἴδες, δοῦλοι.\"\n",
    "\n",
    "non_english_characters = find_non_english_characters(mystring)\n",
    "print(len(non_english_characters))"
   ]
  }
 ],
 "metadata": {
  "kernelspec": {
   "display_name": "Python (3_12)",
   "language": "python",
   "name": "py3_12"
  },
  "language_info": {
   "codemirror_mode": {
    "name": "ipython",
    "version": 3
   },
   "file_extension": ".py",
   "mimetype": "text/x-python",
   "name": "python",
   "nbconvert_exporter": "python",
   "pygments_lexer": "ipython3",
   "version": "3.12.4"
  }
 },
 "nbformat": 4,
 "nbformat_minor": 5
}
