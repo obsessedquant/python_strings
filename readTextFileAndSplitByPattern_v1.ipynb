{
 "cells": [
  {
   "cell_type": "markdown",
   "id": "4915beb1-a376-4f4d-b750-90e13a8e3a27",
   "metadata": {},
   "source": [
    "# Read in Text and Split by Pattern v1"
   ]
  },
  {
   "cell_type": "code",
   "execution_count": 1,
   "id": "5705a411-9dfe-429e-908a-956712b84ea8",
   "metadata": {},
   "outputs": [],
   "source": [
    "#Inputs\n",
    "\n",
    "filePath = r\"C:\\Users\\srobi\\OneDrive\\Documents\\ITSM\\ITSM_Book.txt\""
   ]
  },
  {
   "cell_type": "code",
   "execution_count": 10,
   "id": "949cc5ba-27e8-4ef1-93b0-1770756db915",
   "metadata": {},
   "outputs": [],
   "source": [
    "navDict = {\n",
    "    'Chapter 1': [14,22],\n",
    "    'Chapter 2': [23,24],\n",
    "    'Chapter 3': [25,47],\n",
    "    'Chapter 4': [48,66],\n",
    "    'Chapter 5': [67,88],\n",
    "    'Chapter 6': [89,122],\n",
    "    'Chapter 7': [123,140],\n",
    "    'Chapter 8': [141,162],\n",
    "    'Chapter 9': [163,186],\n",
    "    'Chapter 10': [187,217],\n",
    "    'Chapter 11': [218,247],\n",
    "    'Chapter 12': [248,271],\n",
    "    'Chapter 13': [272,294],\n",
    "    'Chapter 14': [295,323],\n",
    "    'Chapter 15': [324,349],\n",
    "    'Chapter 16': [350,371]\n",
    "}"
   ]
  },
  {
   "cell_type": "code",
   "execution_count": 11,
   "id": "0dead9b9-42ce-40f3-bdba-a8f2f63f517c",
   "metadata": {},
   "outputs": [],
   "source": [
    "import re\n",
    "\n",
    "# Read the contents of the file\n",
    "with open(filePath, 'r', encoding='utf-8') as file:\n",
    "    contents = file.read()\n",
    "\n",
    "# Define the pattern to split on\n",
    "pattern = r'--- Page \\d+ ---'\n",
    "\n",
    "# Split the contents using the pattern\n",
    "split_contents = re.split(pattern, contents)\n",
    "\n",
    "# Result is a list of sections\n",
    "# print(split_contents[14])"
   ]
  },
  {
   "cell_type": "code",
   "execution_count": 33,
   "id": "9c006ed9-b6ce-4b52-9945-c1138c9bb200",
   "metadata": {},
   "outputs": [],
   "source": [
    "from IPython.display import HTML, display\n",
    "\n",
    "colorDict = {\n",
    "    'Option0': {'background':'#2E2E2E', 'font':'#E8E8E8'},\n",
    "    'Option1': {'background':'#2E2E2E', 'font':'#E0E0E0'},\n",
    "    'Option2': {'background':'#001F3F', 'font':'#A1E0FF'},\n",
    "    'Option3': {'background':'#003300', 'font':'#D4D4A4'},\n",
    "    'Option4': {'background':'#2C1A00', 'font':'#FFEBB8'},\n",
    "    'Option5': {'background':'#000000', 'font':'#B0B0B0'}\n",
    "}\n",
    "\n",
    "def convertFormatting(text: str, color_option: dict):\n",
    "    # Define the text with line breaks\n",
    "    # text = \"This is the first line.\\nThis is the second line.\\nThis is the third line.\"\n",
    "    \n",
    "    # Convert carriage returns (\\n) to HTML line breaks (<br>)\n",
    "    text_with_breaks = text.replace(\"\\n\", \"<br>\")\n",
    "    \n",
    "    # Define the style for dark mode\n",
    "    style = f\"\"\"\n",
    "    <div style=\"\n",
    "        font-family: Arial, sans-serif; \n",
    "        background-color: {colorDict[color_option]['background']}; \n",
    "        color: {colorDict[color_option]['font']}; \n",
    "        padding: 10px; \n",
    "        border-radius: 5px;\n",
    "        border: 1px solid #444444;\n",
    "        width: fit-content;\n",
    "        line-height: 1.5;\">\n",
    "        {{}}\n",
    "    </div>\n",
    "    \"\"\"\n",
    "    \n",
    "    # Display the styled text with dark background and line breaks\n",
    "    display(HTML(style.format(text_with_breaks)))"
   ]
  },
  {
   "cell_type": "code",
   "execution_count": null,
   "id": "a94c546f-74eb-4e93-a57e-5bcd5dd97c00",
   "metadata": {},
   "outputs": [],
   "source": [
    "color: #E8E8E8; "
   ]
  },
  {
   "cell_type": "code",
   "execution_count": null,
   "id": "2294ff00-3dd5-48e7-9464-39a3cbe314fa",
   "metadata": {},
   "outputs": [],
   "source": [
    "already_completed = [14, 23]"
   ]
  },
  {
   "cell_type": "code",
   "execution_count": 41,
   "id": "19bbb9c2-01b4-4f99-b74c-848df7e5dbc3",
   "metadata": {},
   "outputs": [
    {
     "name": "stdout",
     "output_type": "stream",
     "text": [
      "Chapter: 3\n",
      "Start Page: 25\n",
      "End Page: 47\n",
      "\n"
     ]
    },
    {
     "data": {
      "text/html": [
       "\n",
       "    <div style=\"\n",
       "        font-family: Arial, sans-serif; \n",
       "        background-color: #2E2E2E; \n",
       "        color: #E8E8E8; \n",
       "        padding: 10px; \n",
       "        border-radius: 5px;\n",
       "        border: 1px solid #444444;\n",
       "        width: fit-content;\n",
       "        line-height: 1.5;\">\n",
       "        <br>Chapter 3: IT Business Relationship Management (BRM)<br><br>IT Business Relationship Management: Purpose and Objectives<br><br>Purpose: To align IT services and capabilities with the strategic goals and needs of the business<br><br>IT business relationship management (BRM) is a crucial process that enables IT to align its services and<br>capabilities with the strategic goals and needs of the business. By engaging actively and continuously<br>with the customer/business, BRM helps to understand, measure, and leverage the value of IT services.<br>BRM also facilitates communication, collaboration, and coordination between IT and the business to<br>ensure both parties are satisfied with the outcomes and benefits of IT services. A mature BRM practice<br>can bring many benefits to both IT and the business, such as:<br><br>« Improved customer satisfaction and loyalty<br><br>« Increased business value and technical innovation<br>* Enhanced trust and transparency<br><br>* Reduced costs and risks<br><br>« Optimized resource utilization and performance<br><br>Key objectives of the BRM process include:<br><br>« Active, ongoing engagement with the customer/business<br><br>« Assisting the business in understanding, measuring, and leveraging the value of IT services<br><br>« Identifying the business customer’s value goals and ensuring both IT and the business<br>understand the requirements needed to meet the strategic and tactical objectives and support<br>their successful execution<br><br>« Identifying business customer needs and requirements and ensuring the service provider can<br>meet these needs as the business needs change or evolve over time and during emerging<br>circumstances<br><br>« Understanding the business customer's perspective of the service<br><br>« Assisting the business in understanding, measuring, and leveraging the value of IT services<br><br>« Assisting in the integration and supporting the alignment of the service provider strategy and the<br>business strategy<br><br>« Developing a lasting relationship between the service provider and the business customer<br><br>\"Understanding the trends or changes impacting the business’ and service provider's<br>environments<br><br>« Understanding how technology trends will impact the business’ competitive advantage<br><br>Licensed exclusively to Samuel Robinson (samuel.robinson@chugachgov.com)<br><br>\n",
       "    </div>\n",
       "    "
      ],
      "text/plain": [
       "<IPython.core.display.HTML object>"
      ]
     },
     "metadata": {},
     "output_type": "display_data"
    }
   ],
   "source": [
    "chapter = 'Chapter 3'\n",
    "startPage,endPage = navDict[chapter][0],navDict[chapter][1]\n",
    "\n",
    "print(f'Chapter: {chapter.split(\" \")[-1]}\\nStart Page: {startPage}\\nEnd Page: {endPage}\\n')\n",
    "\n",
    "# for x in range(startPage,endPage):\n",
    "#     print(x)\n",
    "\n",
    "# print(split_contents[14])\n",
    "\n",
    "color_option = 'Option0'\n",
    "\n",
    "text = split_contents[25]\n",
    "convertFormatting(text, color_option)"
   ]
  }
 ],
 "metadata": {
  "kernelspec": {
   "display_name": "Python (3_12)",
   "language": "python",
   "name": "py3_12"
  },
  "language_info": {
   "codemirror_mode": {
    "name": "ipython",
    "version": 3
   },
   "file_extension": ".py",
   "mimetype": "text/x-python",
   "name": "python",
   "nbconvert_exporter": "python",
   "pygments_lexer": "ipython3",
   "version": "3.12.4"
  }
 },
 "nbformat": 4,
 "nbformat_minor": 5
}
