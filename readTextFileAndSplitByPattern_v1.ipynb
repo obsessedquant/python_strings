{
 "cells": [
  {
   "cell_type": "markdown",
   "id": "4915beb1-a376-4f4d-b750-90e13a8e3a27",
   "metadata": {},
   "source": [
    "# Read in Text and Split by Pattern v1"
   ]
  },
  {
   "cell_type": "code",
   "execution_count": 1,
   "id": "5705a411-9dfe-429e-908a-956712b84ea8",
   "metadata": {},
   "outputs": [],
   "source": [
    "#Inputs\n",
    "\n",
    "filePath = r\"C:\\Users\\srobi\\OneDrive\\Documents\\ITSM\\ITSM_Book.txt\""
   ]
  },
  {
   "cell_type": "code",
   "execution_count": 10,
   "id": "949cc5ba-27e8-4ef1-93b0-1770756db915",
   "metadata": {},
   "outputs": [],
   "source": [
    "navDict = {\n",
    "    'Chapter 1': [14,22],\n",
    "    'Chapter 2': [23,24],\n",
    "    'Chapter 3': [25,47],\n",
    "    'Chapter 4': [48,66],\n",
    "    'Chapter 5': [67,88],\n",
    "    'Chapter 6': [89,121],\n",
    "    'Chapter 7': [122,140],\n",
    "    'Chapter 8': [141,161],\n",
    "    'Chapter 9': [162,186],\n",
    "    'Chapter 10': [187,217],\n",
    "    'Chapter 11': [218,247],\n",
    "    'Chapter 12': [248,271],\n",
    "    'Chapter 13': [272,294],\n",
    "    'Chapter 14': [295,323],\n",
    "    'Chapter 15': [324,349],\n",
    "    'Chapter 16': [350,371]\n",
    "}"
   ]
  },
  {
   "cell_type": "code",
   "execution_count": 11,
   "id": "0dead9b9-42ce-40f3-bdba-a8f2f63f517c",
   "metadata": {},
   "outputs": [],
   "source": [
    "import re\n",
    "\n",
    "# Read the contents of the file\n",
    "with open(filePath, 'r', encoding='utf-8') as file:\n",
    "    contents = file.read()\n",
    "\n",
    "# Define the pattern to split on\n",
    "pattern = r'--- Page \\d+ ---'\n",
    "\n",
    "# Split the contents using the pattern\n",
    "split_contents = re.split(pattern, contents)\n",
    "\n",
    "# Result is a list of sections\n",
    "# print(split_contents[14])"
   ]
  },
  {
   "cell_type": "code",
   "execution_count": 99,
   "id": "9c006ed9-b6ce-4b52-9945-c1138c9bb200",
   "metadata": {},
   "outputs": [],
   "source": [
    "from IPython.display import HTML, display\n",
    "\n",
    "colorDict = {\n",
    "    'Option0': {'background':'#2E2E2E', 'font':'#E8E8E8'},\n",
    "    'Option1': {'background':'#2E2E2E', 'font':'#E0E0E0'},\n",
    "    'Option2': {'background':'#001F3F', 'font':'#A1E0FF'},\n",
    "    'Option3': {'background':'#003300', 'font':'#D4D4A4'},\n",
    "    # 'Option4': {'background':'#2C1A00', 'font':'#FFEBB8'},\n",
    "    'Option5': {'background':'#000000', 'font':'#B0B0B0'}\n",
    "}\n",
    "\n",
    "def convertFormatting(text: str, color_option: dict):\n",
    "    # Define the text with line breaks\n",
    "    # text = \"This is the first line.\\nThis is the second line.\\nThis is the third line.\"\n",
    "    \n",
    "    # Convert carriage returns (\\n) to HTML line breaks (<br>)\n",
    "    text_with_breaks = text.replace(\"\\n\", \"<br>\")\n",
    "    \n",
    "    # Define the style for dark mode\n",
    "    style = f\"\"\"\n",
    "    <div style=\"\n",
    "        font-family: Arial, sans-serif; \n",
    "        background-color: {colorDict[color_option]['background']}; \n",
    "        color: {colorDict[color_option]['font']}; \n",
    "        padding: 10px; \n",
    "        border-radius: 5px;\n",
    "        border: 1px solid #444444;\n",
    "        width: fit-content;\n",
    "        line-height: 1.5;\">\n",
    "        {{}}\n",
    "    </div>\n",
    "    \"\"\"\n",
    "    \n",
    "    # Display the styled text with dark background and line breaks\n",
    "    display(HTML(style.format(text_with_breaks)))"
   ]
  },
  {
   "cell_type": "code",
   "execution_count": 146,
   "id": "19668446-be88-43f1-acc6-a7bb7af0c7c5",
   "metadata": {},
   "outputs": [],
   "source": [
    "import random\n",
    "\n",
    "def getNewPageNumber(start: int, end: int)->int:\n",
    "    \n",
    "    # start = 1\n",
    "    # end = 10\n",
    "    \n",
    "    df = pd.read_csv('itsmpages.csv')\n",
    "    # display(df)\n",
    "    print(f'Total pages looked at: {len(df)}')\n",
    "    \n",
    "    pagesList = df['pages'].tolist()\n",
    "    \n",
    "    # Create a list of allowed numbers by filtering out excluded ones\n",
    "    allowed_numbers = [num for num in range(start, end + 1) if num not in pagesList]\n",
    "    \n",
    "    # Generate a random integer between start and end\n",
    "    chosen_number = random.choice(allowed_numbers)\n",
    "    \n",
    "    # Open the file in append mode and write the chosen number\n",
    "    with open(\"itsmpages.csv\", \"a\") as file:\n",
    "        file.write(str(chosen_number) + \"\\n\")\n",
    "    \n",
    "    return chosen_number,df\n",
    "\n",
    "# newNumber = getNewPageNumber(1,15)\n",
    "# print(newNumber)"
   ]
  },
  {
   "cell_type": "code",
   "execution_count": 219,
   "id": "efb7f4cb-9c85-454a-ab1f-8244cc2d93d8",
   "metadata": {},
   "outputs": [],
   "source": [
    "import pandas as pd\n",
    "\n",
    "def getPercents(navDict: dict, df: pd.DataFrame):\n",
    "    \n",
    "    # navDict = {\n",
    "    #     'Chapter 1': [14,22],\n",
    "    #     'Chapter 2': [23,24],\n",
    "    #     'Chapter 3': [25,47],\n",
    "    #     'Chapter 4': [48,66],\n",
    "    #     'Chapter 5': [67,88],\n",
    "    #     'Chapter 6': [89,121],\n",
    "    #     'Chapter 7': [122,140],\n",
    "    #     'Chapter 8': [141,161],\n",
    "    #     'Chapter 9': [162,186],\n",
    "    #     'Chapter 10': [187,217],\n",
    "    #     'Chapter 11': [218,247],\n",
    "    #     'Chapter 12': [248,271],\n",
    "    #     'Chapter 13': [272,294],\n",
    "    #     'Chapter 14': [295,323],\n",
    "    #     'Chapter 15': [324,349],\n",
    "    #     'Chapter 16': [350,371]\n",
    "    # }\n",
    "    \n",
    "    # # Example DataFrame\n",
    "    # df = pd.DataFrame({\n",
    "    #     'pages': [15, 16, 23, 24, 25, 90, 90, 122, 200, 220, 300, 350, 351]\n",
    "    # })\n",
    "    \n",
    "    # Count how many pages fall in each chapter range\n",
    "    chapter_counts = {}\n",
    "    for chapter, (start, end) in navDict.items():\n",
    "        mask = (df['pages'] >= start) & (df['pages'] <= end)\n",
    "        chapter_counts[chapter] = mask.sum()\n",
    "    \n",
    "    counts_df = pd.DataFrame(list(chapter_counts.items()), columns=['Chapter', 'Count'])\n",
    "    \n",
    "    # Compute total pages for each chapter\n",
    "    counts_df['Total Pages'] = counts_df['Chapter'].apply(\n",
    "        lambda ch: navDict[ch][1] - navDict[ch][0] + 1\n",
    "    )\n",
    "    \n",
    "    # Compute Pct as Count/Total Pages\n",
    "    counts_df['Pct'] = counts_df['Count'] / counts_df['Total Pages'] * 100\n",
    "    counts_df = counts_df.sort_values(by='Pct', ascending=True)\n",
    "\n",
    "    next_chapter = [counts_df['Chapter'].iloc[0], counts_df['Chapter'].iloc[1]]\n",
    "    \n",
    "    return next_chapter,counts_df"
   ]
  },
  {
   "cell_type": "code",
   "execution_count": 185,
   "id": "60982d6e-b61d-4245-8925-627b4a92a93e",
   "metadata": {},
   "outputs": [],
   "source": [
    "def main0(chapter: str):\n",
    "    startPage,endPage = navDict[chapter][0],navDict[chapter][1]\n",
    "    \n",
    "    print(f'Chapter: {chapter.split(\" \")[-1]}\\nStart Page: {startPage}\\nEnd Page: {endPage}')\n",
    "    \n",
    "    newPageNumber,pnDf = getNewPageNumber(startPage, endPage)\n",
    "    print(f'Current Page: {newPageNumber}\\n')\n",
    "    \n",
    "    color_option = random.choice(list(colorDict.keys()))\n",
    "    print(f'color_option: {color_option}\\n')\n",
    "\n",
    "    next_chapter,counts_df = getPercents(navDict, pnDf)\n",
    "    print(f'Next chapter: {next_chapter}\\n')\n",
    "    \n",
    "    # text = split_contents[100]\n",
    "    text = split_contents[newPageNumber]\n",
    "    convertFormatting(text, color_option)\n",
    "\n",
    "    print(counts_df)"
   ]
  },
  {
   "cell_type": "code",
   "execution_count": null,
   "id": "e087dbeb-dae5-4e34-9746-32e50a4d86cd",
   "metadata": {},
   "outputs": [],
   "source": [
    "haven't done the current one yet"
   ]
  },
  {
   "cell_type": "markdown",
   "id": "8d2c9c5d-3ba8-43b3-8c51-d1609637d944",
   "metadata": {},
   "source": []
  },
  {
   "cell_type": "code",
   "execution_count": 231,
   "id": "19bbb9c2-01b4-4f99-b74c-848df7e5dbc3",
   "metadata": {},
   "outputs": [
    {
     "name": "stdout",
     "output_type": "stream",
     "text": [
      "Chapter: 16\n",
      "Start Page: 350\n",
      "End Page: 371\n",
      "Total pages looked at: 112\n",
      "Current Page: 355\n",
      "\n",
      "color_option: Option3\n",
      "\n",
      "Next chapter: ['Chapter 16', 'Chapter 9']\n",
      "\n"
     ]
    },
    {
     "data": {
      "text/html": [
       "\n",
       "    <div style=\"\n",
       "        font-family: Arial, sans-serif; \n",
       "        background-color: #003300; \n",
       "        color: #D4D4A4; \n",
       "        padding: 10px; \n",
       "        border-radius: 5px;\n",
       "        border: 1px solid #444444;\n",
       "        width: fit-content;\n",
       "        line-height: 1.5;\">\n",
       "        <br>Chapter 16: Configuration Management 354<br><br>Configuration Management: Terms and Definitions<br><br>What is configuration?<br><br>In various communities and areas of specialization, the phrase configuration management may have<br>different meanings and context:<br><br>«= <A noun (the current configuration): What is the current configuration of an IT asset, device, or<br>end-to-end service model?<br><br>= A verb (to configure): The act of configuration via orchestration, provisioning, and deployment<br>tools<br><br>= An artifact (the standard configuration): Software configuration, the old use of the term that is<br>now known as trunk management in DevOps vernacular, focuses on documenting and storing<br>software artifacts that are version-controlled and refers to an actual instance of a script that’s<br>housed as code in a software repository.<br><br>It gets even more confusing because it is possible to use all three of these applications of the word,<br>configuration, together in the same discussion.<br><br>Examples of how all three concepts work together:<br><br>* Software orchestration, provisioning, and deployment: A device (physical/virtual) is configured<br>(verb) based on a standard configuration script (artifact), and then that configuration (noun) is<br>captured in an IT asset or service component repository.<br><br>= Compliance assurance: Validating that the environments meet regulatory requirements and<br>audit controls by using only standard configuration scripts (artifacts) for automated device and<br>environmental configuration (verb) and then being able to report on the current configuration<br>(noun)<br><br>« Identifying a configuration drift: Configuration drift happens when production or a primary<br>hardware and software environmental configuration ‘drifts' or becomes different in some way<br>from an authorized standard version or secondary service continuity environment.<br><br>An example to illustrate these three points:<br><br>To understand if drift exists, there must be an ability to compare the current configuration of an object<br>or device as discovered by a monitoring tool (noun) to the standard or baseline configuration record in<br>the service component repository (different noun). If drift is indeed discovered, the device/environment<br>needs to be reconfigured (verb) by using the standard configuration script (artifact) with the<br>configuration management toolchain.<br><br>Licensed exclusively to Samuel Robinson (samuel.robinson@chugachgov.com)<br><br>\n",
       "    </div>\n",
       "    "
      ],
      "text/plain": [
       "<IPython.core.display.HTML object>"
      ]
     },
     "metadata": {},
     "output_type": "display_data"
    },
    {
     "name": "stdout",
     "output_type": "stream",
     "text": [
      "       Chapter  Count  Total Pages         Pct\n",
      "15  Chapter 16      6           22   27.272727\n",
      "8    Chapter 9      7           25   28.000000\n",
      "7    Chapter 8      6           21   28.571429\n",
      "9   Chapter 10      9           31   29.032258\n",
      "10  Chapter 11      9           30   30.000000\n",
      "5    Chapter 6     10           33   30.303030\n",
      "14  Chapter 15      8           26   30.769231\n",
      "13  Chapter 14      9           29   31.034483\n",
      "3    Chapter 4      6           19   31.578947\n",
      "6    Chapter 7      6           19   31.578947\n",
      "4    Chapter 5      7           22   31.818182\n",
      "0    Chapter 1      3            9   33.333333\n",
      "11  Chapter 12      8           24   33.333333\n",
      "2    Chapter 3      8           23   34.782609\n",
      "12  Chapter 13      8           23   34.782609\n",
      "1    Chapter 2      2            2  100.000000\n"
     ]
    }
   ],
   "source": [
    "import random\n",
    "\n",
    "chapter = 'Chapter 16'\n",
    "\n",
    "main0(chapter)"
   ]
  },
  {
   "cell_type": "code",
   "execution_count": null,
   "id": "bce232f5-6a87-49e4-b449-924d362da998",
   "metadata": {},
   "outputs": [],
   "source": []
  }
 ],
 "metadata": {
  "kernelspec": {
   "display_name": "Python (3_12)",
   "language": "python",
   "name": "py3_12"
  },
  "language_info": {
   "codemirror_mode": {
    "name": "ipython",
    "version": 3
   },
   "file_extension": ".py",
   "mimetype": "text/x-python",
   "name": "python",
   "nbconvert_exporter": "python",
   "pygments_lexer": "ipython3",
   "version": "3.12.4"
  }
 },
 "nbformat": 4,
 "nbformat_minor": 5
}
