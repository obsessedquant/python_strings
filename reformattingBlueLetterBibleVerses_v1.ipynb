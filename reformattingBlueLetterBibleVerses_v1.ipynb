{
 "cells": [
  {
   "cell_type": "markdown",
   "id": "c59c0ce6-70dd-4287-b011-4df2042bbc2e",
   "metadata": {},
   "source": [
    "# Reformatting Blue Letter Bible verses v1"
   ]
  },
  {
   "cell_type": "code",
   "execution_count": 12,
   "id": "95a62e40-32d8-4b4e-8ffa-e4b24e9a004b",
   "metadata": {},
   "outputs": [
    {
     "data": {
      "text/plain": [
       "<Popen: returncode: None args: ['notepad.exe', 'C:\\\\Users\\\\srobi\\\\OneDrive\\\\...>"
      ]
     },
     "execution_count": 12,
     "metadata": {},
     "output_type": "execute_result"
    }
   ],
   "source": [
    "import re\n",
    "\n",
    "txtFilePath = r\"C:\\Users\\srobi\\OneDrive\\Desktop\\Temp\\removeNumbers.txt\"\n",
    "\n",
    "with open(txtFilePath, 'r') as file:\n",
    "    text0 = file.read().replace('\\n', '')\n",
    "\n",
    "result1 = re.sub(r'\\d+', '', text0)\n",
    "\n",
    "result2 = ''\n",
    "numberRange = [str(x) for x in range(0,10)]\n",
    "number = False; start = False\n",
    "\n",
    "for char in text0:\n",
    "    if char==']': start=True\n",
    "    if char in numberRange and not number and start:\n",
    "        result2 = f'{result2}\\n{char}'; number=True\n",
    "    elif number and char not in numberRange and start:\n",
    "        result2 = f'{result2}{char}'; number = False\n",
    "    else: result2 = f'{result2}{char}'\n",
    "\n",
    "result3_0 = result2.split(']',1)\n",
    "result3 = re.sub(r'\\d+ ', '  ', result3_0[1])\n",
    "result3 = f\".{result3}\\n{result3_0[0].replace('[','').replace('NLT','')}\"\n",
    "\n",
    "finalResult = f'{result1}\\n\\n{result2}\\n\\n{result3}'\n",
    "\n",
    "# print(finalResult)\n",
    "\n",
    "savePath1 = r'C:\\Users\\srobi\\OneDrive\\Desktop\\Temp\\numbersRemoved.txt'\n",
    "savePath2 = r'C:\\Users\\srobi\\OneDrive\\Desktop\\Temp\\numbersRemoved2.txt'\n",
    "savePath3 = r'C:\\Users\\srobi\\OneDrive\\Desktop\\Temp\\numbersRemoved3.txt'\n",
    "\n",
    "with open(savePath1,'w') as out_file:\n",
    "    out_file.write(finalResult)\n",
    "\n",
    "with open(savePath2,'w') as out_file:\n",
    "    out_file.write(result2)\n",
    "\n",
    "with open(savePath3,'w') as out_file:\n",
    "    out_file.write(result3)\n",
    "\n",
    "import subprocess as sp\n",
    "\n",
    "programName = \"notepad.exe\"\n",
    "# fileName = \"immediateReblance.txt\"\n",
    "sp.Popen([programName, savePath3])"
   ]
  },
  {
   "cell_type": "code",
   "execution_count": 14,
   "id": "973a8222-a3dc-491a-8f43-7225207ed586",
   "metadata": {},
   "outputs": [
    {
     "name": "stdout",
     "output_type": "stream",
     "text": [
      "[Revelation 4:1-11 NLT] \n",
      "1 Then as I looked, I saw a door standing open in heaven, and the same voice I had heard before spoke to me like a trumpet blast. The voice said, \"Come up here, and I will show you what must happen after this.\" \n",
      "2 And instantly I was in the Spirit, and I saw a throne in heaven and someone sitting on it. \n",
      "3 The one sitting on the throne was as brilliant as gemstones--like jasper and carnelian. And the glow of an emerald circled his throne like a rainbow. \n",
      "4 Twenty-four thrones surrounded him, and twenty-four elders sat on them. They were all clothed in white and had gold crowns on their heads. \n",
      "5 From the throne came flashes of lightning and the rumble of thunder. And in front of the throne were seven torches with burning flames. This is the sevenfold Spirit of God. \n",
      "6 In front of the throne was a shiny sea of glass, sparkling like crystal. In the center and around the throne were four living beings, each covered with eyes, front and back. \n",
      "7 The first of these living beings was like a lion; the second was like an ox; the third had a human face; and the fourth was like an eagle in flight. \n",
      "8 Each of these living beings had six wings, and their wings were covered all over with eyes, inside and out. Day after day and night after night they keep on saying, \"Holy, holy, holy is the Lord God, the Almighty--the one who always was, who is, and who is still to come.\" \n",
      "9 Whenever the living beings give glory and honor and thanks to the one sitting on the throne (the one who lives forever and ever), \n",
      "10 the twenty-four elders fall down and worship the one sitting on the throne (the one who lives forever and ever). And they lay their crowns before the throne and say, \n",
      "11 \"You are worthy, O Lord our God, to receive glory and honor and power. For you created all things, and they exist because you created what you pleased.\"\n"
     ]
    }
   ],
   "source": [
    "print(result2)"
   ]
  }
 ],
 "metadata": {
  "kernelspec": {
   "display_name": "Python (3_12)",
   "language": "python",
   "name": "py3_12"
  },
  "language_info": {
   "codemirror_mode": {
    "name": "ipython",
    "version": 3
   },
   "file_extension": ".py",
   "mimetype": "text/x-python",
   "name": "python",
   "nbconvert_exporter": "python",
   "pygments_lexer": "ipython3",
   "version": "3.12.4"
  }
 },
 "nbformat": 4,
 "nbformat_minor": 5
}
